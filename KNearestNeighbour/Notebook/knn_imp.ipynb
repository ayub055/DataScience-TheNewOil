{
 "cells": [
  {
   "cell_type": "code",
   "execution_count": null,
   "metadata": {},
   "outputs": [],
   "source": [
    "import pandas as pd \n",
    "import numpy as np\n",
    "import matplotlib.pyplot as plt"
   ]
  },
  {
   "cell_type": "code",
   "execution_count": null,
   "metadata": {},
   "outputs": [],
   "source": [
    "from sklearn import datasets, neighbors\n",
    "from matplotlib import colors"
   ]
  },
  {
   "cell_type": "code",
   "execution_count": null,
   "metadata": {},
   "outputs": [],
   "source": [
    "from mlxtend.plotting import plot_decision_regions"
   ]
  },
  {
   "cell_type": "code",
   "execution_count": null,
   "metadata": {},
   "outputs": [],
   "source": [
    "def knn_visual( data, neighbour_count = 15) : \n",
    "    #1 getting input X and class labels Y differently\n",
    "    X = data[:,:2]\n",
    "    Y = data[:,2]\n",
    "    \n",
    "    #2 setting up for the plot. as data set is of 2-D\n",
    "    h = 0.2\n",
    "    x_min, x_max = X[:,0].min()-1, X[:,0].max()+1\n",
    "    y_min, y_max = X[:,1].min()-1, X[:,1].max()+1\n",
    "    \n",
    "    #3 setting up colours for our cmap\n",
    "    cmap_decision = colors.ListedColormap(['#FFAAAA',  '#AAAAFF'])\n",
    "    cmap_points = colors.ListedColormap(['#FF0000', '#0000FF'])\n",
    "    \n",
    "    #4 Training My Knn Classifier\n",
    "    knnModel = neighbors.KNeighborsClassifier(neighbour_count)\n",
    "    knnModel.fit(X,Y)\n",
    "    \n",
    "    #5 Creating Meshgrid \n",
    "    \n",
    "    xx, yy = np.meshgrid(np.arange(x_min,x_max,h),np.arange(y_min,y_max,h))\n",
    "    \n",
    "    label = knnModel.predict(np.c_[xx.ravel(), yy.ravel()])\n",
    "    label = label.reshape(xx.shape) #converting output back to xx or yy shape as we need to plot\n",
    "    \n",
    "    plt.figure()\n",
    "    \n",
    "    plt.pcolormesh(xx, yy, label, cmap=cmap_decision)\n",
    "    plt.scatter(X[:,0], X[:,1], c = Y, cmap=cmap_points)\n",
    "    #plt.pcolormesh(X[:,0], X[:,1], c = Y, cmap=cmap_points)\n",
    "    \n",
    "    plt.xlim(xx.min(), xx.max())\n",
    "    plt.ylim(yy.min(), yy.max())\n",
    "    \n",
    "    plt.title(\"Plot for K = \" + str(neighbour_count))\n",
    "    plt.show()\n",
    "    \n",
    "    "
   ]
  },
  {
   "cell_type": "code",
   "execution_count": null,
   "metadata": {},
   "outputs": [],
   "source": [
    "\n",
    "\n",
    "def knn_visual_usingMLXTEND( data, neighbour_count = 15) : \n",
    "    #1 getting input X and class labels Y differently\n",
    "    X = data[['x1','x2']].values\n",
    "    Y = data['y'].astype(int).values\n",
    "    \n",
    "\n",
    "    #4 Training My Knn Classifier\n",
    "    knnModel = neighbors.KNeighborsClassifier(neighbour_count)\n",
    "    knnModel.fit(X,Y)\n",
    "    plot_decision_regions(X,Y,clf =knnModel, legend=1)    \n",
    "  \n",
    "    \n",
    "    plt.xlabel('X1')\n",
    "    plt.ylabel('X2')\n",
    "   \n",
    "    plt.title(\"Plot for K = \" + str(neighbour_count))\n",
    "    plt.show()\n",
    "    \n",
    "    "
   ]
  },
  {
   "cell_type": "code",
   "execution_count": null,
   "metadata": {},
   "outputs": [],
   "source": [
    "data = pd.read_csv('/Projects/KNearestNeighbour/DataSets/1.ushape.csv', names=['x1', 'x2', 'y'])\n",
    "#knn_visual(data, 1)\n",
    "knn_visual_usingMLXTEND(data,1)\n",
    "\n",
    "#knn_visual(data, 5)\n",
    "knn_visual_usingMLXTEND(data,5)\n",
    "\n",
    "#knn_visual(data, 10)\n",
    "knn_visual_usingMLXTEND(data,10)\n",
    "#knn_visual(data, 15)\n",
    "#knn_visual(data, 20)\n",
    "#knn_visual(data, 25)\n",
    "#knn_visual(data, 30)\n",
    "\n",
    "\n"
   ]
  },
  {
   "cell_type": "code",
   "execution_count": null,
   "metadata": {},
   "outputs": [],
   "source": [
    "data = np.genfromtxt(\"/Projects/KNearestNeighbour/DataSets/2.concerticcir1.csv\", delimiter=',')\n",
    "knn_visual(data, 1)\n",
    "knn_visual(data, 5)\n",
    "knn_visual(data, 10)\n",
    "knn_visual(data, 15)\n",
    "knn_visual(data, 20)\n",
    "knn_visual(data, 25)\n",
    "knn_visual(data, 30)\n",
    "\n",
    "\n"
   ]
  },
  {
   "cell_type": "code",
   "execution_count": null,
   "metadata": {},
   "outputs": [],
   "source": [
    "data = np.genfromtxt(\"/Projects/KNearestNeighbour/DataSets/4.linearsep.csv\", delimiter=',')\n",
    "knn_visual(data, 1)\n",
    "knn_visual(data, 5)\n",
    "knn_visual(data, 10)\n",
    "knn_visual(data, 15)\n",
    "knn_visual(data, 20)\n",
    "knn_visual(data, 25)\n",
    "knn_visual(data, 30)\n",
    "\n",
    "\n"
   ]
  },
  {
   "cell_type": "code",
   "execution_count": null,
   "metadata": {},
   "outputs": [],
   "source": [
    "data = np.genfromtxt(\"/Projects/KNearestNeighbour/DataSets/9.random.csv\", delimiter=',')\n",
    "knn_visual(data, 1)\n",
    "knn_visual(data, 5)\n",
    "knn_visual(data, 10)\n",
    "knn_visual(data, 15)\n",
    "knn_visual(data, 20)\n",
    "knn_visual(data, 25)\n",
    "knn_visual(data, 30)\n",
    "\n",
    "\n"
   ]
  }
 ],
 "metadata": {
  "kernelspec": {
   "display_name": "Python 3",
   "language": "python",
   "name": "python3"
  },
  "language_info": {
   "codemirror_mode": {
    "name": "ipython",
    "version": 3
   },
   "file_extension": ".py",
   "mimetype": "text/x-python",
   "name": "python",
   "nbconvert_exporter": "python",
   "pygments_lexer": "ipython3",
   "version": "3.10.6"
  },
  "orig_nbformat": 4,
  "vscode": {
   "interpreter": {
    "hash": "14cf5a8e3918e9ce388e5493cc9790416c5866b3024417863a611614397c54cf"
   }
  }
 },
 "nbformat": 4,
 "nbformat_minor": 2
}
